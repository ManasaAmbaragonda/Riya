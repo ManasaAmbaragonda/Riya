{
  "nbformat": 4,
  "nbformat_minor": 0,
  "metadata": {
    "colab": {
      "provenance": [],
      "authorship_tag": "ABX9TyPdlYI0fCBDKOVon21EmMxc",
      "include_colab_link": true
    },
    "kernelspec": {
      "name": "python3",
      "display_name": "Python 3"
    },
    "language_info": {
      "name": "python"
    }
  },
  "cells": [
    {
      "cell_type": "markdown",
      "metadata": {
        "id": "view-in-github",
        "colab_type": "text"
      },
      "source": [
        "<a href=\"https://colab.research.google.com/github/ManasaAmbaragonda/Riya/blob/main/Untitled2.ipynb\" target=\"_parent\"><img src=\"https://colab.research.google.com/assets/colab-badge.svg\" alt=\"Open In Colab\"/></a>"
      ]
    },
    {
      "cell_type": "code",
      "execution_count": null,
      "metadata": {
        "id": "HIh0RQQPGdOw"
      },
      "outputs": [],
      "source": [
        "#!/usr/bin/env python\n",
        "# coding: utf-8\n",
        "\n",
        "# # CODSOFT DATA SCIENCE INTERNSHIP\n",
        "\n",
        "# # TASK 3: IRIS FLOWER DETECTION\n",
        "\n",
        "# # BY AYUSHI GEORGE\n",
        "\n",
        "# In[3]:\n",
        "\n",
        "\n",
        "import pandas as pd\n",
        "from sklearn.model_selection import train_test_split\n",
        "from sklearn.neighbors import KNeighborsClassifier\n",
        "from sklearn.metrics import accuracy_score\n",
        "\n",
        "\n",
        "# ## Load the Iris flower dataset\n",
        "\n",
        "# In[4]:\n",
        "\n",
        "\n",
        "df = pd.read_csv('IRIS.csv')\n",
        "\n",
        "\n",
        "# ## Split the dataset into features (measurements) and labels (species)\n",
        "\n",
        "# In[5]:\n",
        "\n",
        "\n",
        "X = df.drop('species', axis=1)\n",
        "y = df['species']\n",
        "\n",
        "\n",
        "# ## Split the dataset into training and testing sets\n",
        "\n",
        "# In[6]:\n",
        "\n",
        "\n",
        "X_train, X_test, y_train, y_test = train_test_split(X, y, test_size=0.2, random_state=42)\n",
        "\n",
        "\n",
        "# ## Train a K-Nearest Neighbors classifier on the training data\n",
        "\n",
        "# In[7]:\n",
        "\n",
        "\n",
        "classifier = KNeighborsClassifier(n_neighbors=3)\n",
        "classifier.fit(X_train, y_train)\n",
        "\n",
        "\n",
        "# ## Predict the species for the test data\n",
        "\n",
        "# In[8]:\n",
        "\n",
        "\n",
        "y_pred = classifier.predict(X_test)\n",
        "\n",
        "\n",
        "# ## Calculate accuracy of the model\n",
        "\n",
        "# In[9]:\n",
        "\n",
        "\n",
        "accuracy = accuracy_score(y_test, y_pred)\n",
        "print('Accuracy:', accuracy)\n",
        "\n",
        "\n",
        "# # Thank you\n",
        "\n",
        "# In[ ]:"
      ]
    }
  ]
}