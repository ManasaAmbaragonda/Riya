{
  "nbformat": 4,
  "nbformat_minor": 0,
  "metadata": {
    "colab": {
      "provenance": [],
      "authorship_tag": "ABX9TyNckCfgeeY1ImhdQmCjmu4U",
      "include_colab_link": true
    },
    "kernelspec": {
      "name": "python3",
      "display_name": "Python 3"
    },
    "language_info": {
      "name": "python"
    }
  },
  "cells": [
    {
      "cell_type": "markdown",
      "metadata": {
        "id": "view-in-github",
        "colab_type": "text"
      },
      "source": [
        "<a href=\"https://colab.research.google.com/github/ManasaAmbaragonda/Riya/blob/main/Untitled1.ipynb\" target=\"_parent\"><img src=\"https://colab.research.google.com/assets/colab-badge.svg\" alt=\"Open In Colab\"/></a>"
      ]
    },
    {
      "cell_type": "code",
      "execution_count": null,
      "metadata": {
        "id": "9K_QsYLBEOCZ"
      },
      "outputs": [],
      "source": [
        "import pandas as pd\n",
        "import numpy as np\n",
        "from google.colab import files\n",
        "#uploaded = files.upload() #Fixed: Removed the extra space at the beginning of the line\n",
        "\n",
        "# Assuming you have a CSV file with movie data\n",
        "data = pd.read_csv('IMDb Movies India.csv', encoding='latin-1')\n",
        "\n",
        "# Handle missing values\n",
        "data.fillna(method='ffill', inplace=True)\n",
        "\n",
        "# Encode categorical features (genre, director, actors)\n",
        "from sklearn.preprocessing import LabelEncoder\n",
        "le = LabelEncoder()\n",
        "categorical_features = ['Name', 'Genre', 'Director', 'Actor 1', 'Actor 2', 'Actor 3'] # Removed 'Duration' from the list\n",
        "for feature in categorical_features:\n",
        "    data[feature] = le.fit_transform(data[feature].astype(str)) # Convert to string before encoding\n",
        "\n",
        "# Create interaction features (e.g., director-genre combinations)\n",
        "data['director_genre'] = data['Director'] * data['Genre']\n",
        "\n",
        "# Consider time-based features (e.g., release year)\n",
        "# Extract numeric year using regex, removing parentheses, and convert to float\n",
        "data['year'] = data['Year'].str.extract('(\\d+)').astype(float)\n",
        "# Removing potential parentheses from the 'Year' column before the first conversion\n",
        "data['Year'] = data['Year'].str.replace(r'[()]', '', regex=True)\n",
        "data['year'] = pd.to_numeric(data['Year'], errors='coerce')\n",
        "data['year'].fillna(data['year'].mean(), inplace=True) # Fill NaN with the mean\n",
        "\n",
        "# ----> Changed code ends here.\n",
        "# Convert 'Votes' column to numeric, handling commas\n",
        "data['Votes'] = data['Votes'].str.replace(',', '', regex=True)\n",
        "data['Votes'] = pd.to_numeric(data['Votes'], errors='coerce')\n",
        "\n",
        "# If you want to fill NaN values in 'Votes' with the mean:\n",
        "data['Votes'].fillna(data['Votes'].mean(), inplace=True)\n",
        "\n",
        "# ----> Added code starts here\n",
        "# Extract duration in minutes from 'Duration' column\n",
        "data['Duration'] = data['Duration'].str.extract('(\\d+)').astype(float)\n",
        "data['Duration'].fillna(data['Duration'].mean(), inplace=True) # Fill NaN with the mean\n",
        "# ----> Added code ends here\n",
        "\n",
        "# **Drop rows with NaN values in 'Rating' column before splitting**\n",
        "data.dropna(subset=['Rating'], inplace=True)\n",
        "\n",
        "from sklearn.model_selection import train_test_split\n",
        "from sklearn.linear_model import LinearRegression\n",
        "from sklearn.ensemble import RandomForestRegressor\n",
        "from sklearn.metrics import mean_squared_error\n",
        "\n",
        "# Split data into features (X) and target variable (y)\n",
        "X = data.drop('Rating', axis=1)\n",
        "y = data['Rating']\n",
        "\n",
        "X_train, X_test, y_train, y_test = train_test_split(X, y, test_size=0.2, random_state=42)\n",
        "\n",
        "# Choose a model (e.g., Linear Regression or Random Forest Regression)\n",
        "model = RandomForestRegressor(n_estimators=100, random_state=42)\n",
        "\n",
        "# Train the model\n",
        "model.fit(X_train, y_train)\n",
        "# Make predictions on the test set\n",
        "y_pred = model.predict(X_test)\n",
        "\n",
        "# Evaluate the model\n",
        "mse = mean_squared_error(y_test, y_pred)\n",
        "rmse = np.sqrt(mse)\n",
        "print('Mean Squared Error:', mse)\n",
        "print('Root Mean Squared Error:', rmse)\n",
        "\n"
      ]
    }
  ]
}